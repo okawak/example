{
 "cells": [
  {
   "cell_type": "markdown",
   "metadata": {},
   "source": [
    "## 準備"
   ]
  },
  {
   "cell_type": "code",
   "execution_count": null,
   "metadata": {},
   "outputs": [],
   "source": [
    "import numpy as np\n",
    "import matplotlib.pyplot as plt\n",
    "from scipy.signal import find_peaks\n",
    "from scipy.optimize import curve_fit"
   ]
  },
  {
   "cell_type": "code",
   "execution_count": null,
   "metadata": {},
   "outputs": [],
   "source": [
    "def fit_func(x, count, mu, sigma, a, b):\n",
    "    return count * np.exp(- (x - mu)**2 / (2 * sigma**2)) / (np.sqrt(2. * np.pi) * sigma) + a + b * x"
   ]
  },
  {
   "cell_type": "markdown",
   "metadata": {},
   "source": [
    "## データの読み込み"
   ]
  },
  {
   "cell_type": "code",
   "execution_count": null,
   "metadata": {},
   "outputs": [],
   "source": [
    "# input the text file name\n",
    "file_name = \"Ba.txt\"\n",
    "\n",
    "raw_data = np.loadtxt(file_name)\n",
    "ch = np.arange(4096)\n",
    "\n",
    "plt.plot(ch, raw_data)\n",
    "plt.savefig(\"py_raw_data.png\") # save\n",
    "plt.show()"
   ]
  },
  {
   "cell_type": "markdown",
   "metadata": {},
   "source": [
    "## ピークサーチ"
   ]
  },
  {
   "cell_type": "code",
   "execution_count": null,
   "metadata": {},
   "outputs": [],
   "source": [
    "# 範囲の指定\n",
    "data_range = (80, 1100)\n",
    "\n",
    "data = raw_data[data_range[0]:data_range[1]]\n",
    "ch = np.arange(data_range[0], data_range[1])\n",
    "\n",
    "# parameters: height, threshold, distance, prominence\n",
    "peaks, results = find_peaks(data, height=10, prominence=50)\n",
    "pos_peaks = peaks + data_range[0]\n",
    "height_peaks = results[\"peak_heights\"]\n",
    "\n",
    "plt.plot(ch, data, label=\"data\")\n",
    "plt.plot(ch[peaks], data[peaks], \"x\", label=\"find peaks\")\n",
    "plt.yscale(\"log\")\n",
    "plt.legend()\n",
    "plt.savefig(\"py_find_peaks.png\") # save\n",
    "plt.show()"
   ]
  },
  {
   "cell_type": "markdown",
   "metadata": {},
   "source": [
    "## フィッティング"
   ]
  },
  {
   "cell_type": "code",
   "execution_count": null,
   "metadata": {},
   "outputs": [],
   "source": [
    "x_list = []\n",
    "y_list = []\n",
    "\n",
    "for i in range(len(peaks)):\n",
    "    fine_range = (pos_peaks[i] - 15, pos_peaks[i] + 15)\n",
    "    fine_data = raw_data[fine_range[0]:fine_range[1]]\n",
    "    fine_ch = np.arange(fine_range[0], fine_range[1])\n",
    "\n",
    "    # initial parameters\n",
    "    par, cov = curve_fit(fit_func, fine_ch, fine_data, sigma=np.sqrt(fine_data), p0=[height_peaks[i]*2.0, pos_peaks[i], 1.0, 10.0, -0.001], absolute_sigma=True)\n",
    "    chi2 = np.sum(((fit_func(fine_ch, par[0], par[1], par[2], par[3], par[4]) - fine_data)/np.sqrt(fine_data))**2)\n",
    "    ndf = len(fine_ch) - 5\n",
    "\n",
    "    plt.plot(fine_ch, fine_data, 'o', label=\"data\")\n",
    "    x = np.arange(fine_range[0], fine_range[1], 0.01)\n",
    "    x_list.append(x)\n",
    "    y_list.append(fit_func(x, par[0], par[1], par[2], par[3], par[4]))\n",
    "    plt.plot(x, fit_func(x, par[0], par[1], par[2], par[3], par[4]), label=\"fitting\")\n",
    "    plt.yscale(\"log\")\n",
    "    plt.legend()\n",
    "    plt.grid()\n",
    "    plt.savefig(\"py_fit\" + str(i) + \"_result.png\") # save\n",
    "    plt.show()\n",
    "\n",
    "    print(\"chi2/ndf = {:7.3f}/{}\".format(chi2, ndf))\n",
    "    print(\"p0 : {:10.5f} +- {:10.5f}\".format(par[0], np.sqrt(cov[0,0])))\n",
    "    print(\"p1 : {:10.5f} +- {:10.5f}\".format(par[1], np.sqrt(cov[1,1])))\n",
    "    print(\"p2 : {:10.5f} +- {:10.5f}\".format(par[2], np.sqrt(cov[2,2])))\n",
    "    print(\"p3 : {:10.5f} +- {:10.5f}\".format(par[3], np.sqrt(cov[3,3])))\n",
    "    print(\"p4 : {:10.5f} +- {:10.5f}\".format(par[4], np.sqrt(cov[4,4])))"
   ]
  },
  {
   "cell_type": "code",
   "execution_count": null,
   "metadata": {},
   "outputs": [],
   "source": [
    "plt.plot(ch, data)\n",
    "for i in range(len(x_list)):\n",
    "    plt.plot(x_list[i], y_list[i])\n",
    "plt.yscale(\"log\")\n",
    "plt.savefig(\"py_fit_all.png\") # save\n",
    "plt.show()"
   ]
  }
 ],
 "metadata": {
  "kernelspec": {
   "display_name": "Python 3",
   "language": "python",
   "name": "python3"
  },
  "language_info": {
   "codemirror_mode": {
    "name": "ipython",
    "version": 3
   },
   "file_extension": ".py",
   "mimetype": "text/x-python",
   "name": "python",
   "nbconvert_exporter": "python",
   "pygments_lexer": "ipython3",
   "version": "3.11.6"
  }
 },
 "nbformat": 4,
 "nbformat_minor": 2
}
